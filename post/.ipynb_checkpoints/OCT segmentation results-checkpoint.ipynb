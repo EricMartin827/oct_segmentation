{
 "cells": [
  {
   "cell_type": "code",
   "execution_count": 92,
   "metadata": {},
   "outputs": [],
   "source": [
    "import numpy as np\n",
    "import pandas as pd\n",
    "from matplotlib import pyplot as plt\n",
    "import matplotlib\n",
    "import seaborn as sns\n",
    "np.random.seed(1)"
   ]
  },
  {
   "cell_type": "code",
   "execution_count": 83,
   "metadata": {},
   "outputs": [],
   "source": [
    "from scipy.stats import ttest_rel, ttest_ind"
   ]
  },
  {
   "cell_type": "markdown",
   "metadata": {},
   "source": [
    "# Introduction"
   ]
  },
  {
   "cell_type": "markdown",
   "metadata": {},
   "source": [
    "Table of Content\n",
    "- [Error analysis and Uncertainty](#Error-analysis-and-Uncertainty)\n",
    "- [RNTL vs Other layers](#Comparison-of-RNTL-vs-Other-Layers)\n",
    "- [Glaucoma vs HC](#Comparison-of-Glaucoma-vs-Health-Controls)\n",
    "- [Manual vs model segmentation](#Comparison-between-manual-and-model-segmentation)\n",
    "- [TBD](#Repeatability)\n"
   ]
  },
  {
   "cell_type": "markdown",
   "metadata": {},
   "source": [
    "To start with, this notebook reads in a `results.xlsx` file where:\n",
    "* Each xlsx file has three sheets, one per class\n",
    "* Each xlsx file has N rows, one per unique image \n",
    "* `pixels_pred`: percent of pixels labeled as that class in the model segmentation\n",
    "* `pixels_true`: percent of pixels labeled as that class in the manual segmentation\n",
    "* `thickness_pred`: average of vertical thickness of that class (measured as number of pixels) in the model segmentation\n",
    "* `thickness_true`: paverage of vertical thickness of that class (measured as number of pixels) in the manual segmentation\n",
    "* `dice`\n",
    "* `auc`\n",
    "* `accuracy`\n",
    "* `jaccard`\n"
   ]
  },
  {
   "cell_type": "code",
   "execution_count": 99,
   "metadata": {},
   "outputs": [],
   "source": [
    "file_name = \"test_results.xlsx\"\n",
    "original_image_folder = \"\"\n",
    "layer = 2"
   ]
  },
  {
   "cell_type": "code",
   "execution_count": 42,
   "metadata": {},
   "outputs": [],
   "source": [
    "result1 = pd.read_excel(file_name, sheet_name=\"class1\", index_col=0)\n",
    "result2 = pd.read_excel(file_name, sheet_name=\"class2\", index_col=0)"
   ]
  },
  {
   "cell_type": "markdown",
   "metadata": {},
   "source": [
    "# Error analysis and Uncertainty"
   ]
  },
  {
   "cell_type": "markdown",
   "metadata": {},
   "source": [
    "The distribution of DICE is very left-skewed -- Majority of images have high DICE and two images have very bad segmentation. We examine those images and see that..."
   ]
  },
  {
   "cell_type": "code",
   "execution_count": 65,
   "metadata": {},
   "outputs": [
    {
     "data": {
      "image/png": "[encoded data removed]",
      "text/plain": [
       "<Figure size 360x288 with 1 Axes>"
      ]
     },
     "metadata": {
      "needs_background": "light"
     },
     "output_type": "display_data"
    }
   ],
   "source": [
    "plt.rcParams[\"figure.figsize\"] = (5,4)\n",
    "plt.hist(result2['dice'])\n",
    "plt.title(\"Histogram of RNTL DICE for test images\")\n",
    "plt.show()"
   ]
  },
  {
   "cell_type": "code",
   "execution_count": null,
   "metadata": {},
   "outputs": [],
   "source": [
    "# TODO Visualize those worse performing images "
   ]
  },
  {
   "cell_type": "code",
   "execution_count": null,
   "metadata": {},
   "outputs": [],
   "source": []
  },
  {
   "cell_type": "markdown",
   "metadata": {},
   "source": [
    "T-test to compare if the accuracy of certain images is singificantly higher than that of uncertain regions."
   ]
  },
  {
   "cell_type": "code",
   "execution_count": null,
   "metadata": {},
   "outputs": [],
   "source": [
    "ttest_rel(result2.query(\"uncertainty_avg>=1.0\")['dice'], \n",
    "          result2.query(\"uncertainty_avg<1\")['dice'])"
   ]
  },
  {
   "cell_type": "markdown",
   "metadata": {},
   "source": [
    "Which images the model is most uncertain? What are their accuracies?\n"
   ]
  },
  {
   "cell_type": "code",
   "execution_count": null,
   "metadata": {},
   "outputs": [],
   "source": [
    "plt.rcParams[\"figure.figsize\"] = (5,4)\n",
    "plt.hist(result2['uncertainty_avg'])\n",
    "plt.title(\"Histogram of uncertainty for test images\")\n",
    "plt.show()"
   ]
  },
  {
   "cell_type": "code",
   "execution_count": null,
   "metadata": {},
   "outputs": [],
   "source": [
    "# TODO: visualize images with high uncertainty"
   ]
  },
  {
   "cell_type": "markdown",
   "metadata": {},
   "source": [
    "# Comparison of RNTL vs Other Layers"
   ]
  },
  {
   "cell_type": "markdown",
   "metadata": {},
   "source": [
    "layer 2 have a lower accuracy than other layers; also thinner (average number of pixels is 3%)."
   ]
  },
  {
   "cell_type": "code",
   "execution_count": 45,
   "metadata": {},
   "outputs": [
    {
     "data": {
      "text/plain": [
       "dice               0.849281\n",
       "auc                0.926001\n",
       "accuracy           0.957284\n",
       "jaccard            0.759436\n",
       "thickness_pred    48.890769\n",
       "thickness_true    52.906297\n",
       "pixels_pred        0.095490\n",
       "pixels_true        0.103333\n",
       "glaucoma           0.680000\n",
       "dtype: float64"
      ]
     },
     "execution_count": 45,
     "metadata": {},
     "output_type": "execute_result"
    }
   ],
   "source": [
    "result1.mean()"
   ]
  },
  {
   "cell_type": "code",
   "execution_count": 38,
   "metadata": {},
   "outputs": [
    {
     "data": {
      "text/plain": [
       "dice               0.676368\n",
       "auc                0.816520\n",
       "accuracy           0.962169\n",
       "jaccard            0.527762\n",
       "thickness_pred    15.971590\n",
       "thickness_true    15.404642\n",
       "pixels_pred        0.031195\n",
       "pixels_true        0.030087\n",
       "glaucoma           0.680000\n",
       "dtype: float64"
      ]
     },
     "execution_count": 38,
     "metadata": {},
     "output_type": "execute_result"
    }
   ],
   "source": [
    "result2.mean()"
   ]
  },
  {
   "cell_type": "markdown",
   "metadata": {},
   "source": [
    "Compute  \"CVI; a commonly used metric that quantifies the ratio of the luminal area to the total choroidal area in a binarized OCT image\""
   ]
  },
  {
   "cell_type": "code",
   "execution_count": 53,
   "metadata": {},
   "outputs": [],
   "source": [
    "result2['CVI_true'] = result2['pixels_true'] / (result1['pixels_true'] + result2['pixels_true'])\n",
    "result2['CVI_pred'] = result2['pixels_pred'] / (result1['pixels_pred'] + result2['pixels_pred'])"
   ]
  },
  {
   "cell_type": "markdown",
   "metadata": {},
   "source": [
    "# Comparison of with vs without data augmentation"
   ]
  },
  {
   "cell_type": "markdown",
   "metadata": {},
   "source": [
    "# Comparison of Glaucoma vs Health Controls"
   ]
  },
  {
   "cell_type": "code",
   "execution_count": 86,
   "metadata": {
    "hide_input": false
   },
   "outputs": [
    {
     "data": {
      "text/plain": [
       "glaucoma\n",
       "0.0    16\n",
       "1.0    34\n",
       "dtype: int64"
      ]
     },
     "execution_count": 86,
     "metadata": {},
     "output_type": "execute_result"
    }
   ],
   "source": [
    "result2.groupby(\"glaucoma\").size()"
   ]
  },
  {
   "cell_type": "markdown",
   "metadata": {},
   "source": [
    "First, we test if Glaucoma subjects have more pixels than HC"
   ]
  },
  {
   "cell_type": "code",
   "execution_count": 85,
   "metadata": {},
   "outputs": [
    {
     "data": {
      "text/plain": [
       "Ttest_indResult(statistic=1.207338293771059, pvalue=0.23321772645074867)"
      ]
     },
     "execution_count": 85,
     "metadata": {},
     "output_type": "execute_result"
    }
   ],
   "source": [
    "ttest_ind(result2.query(\"glaucoma==0\")['pixels_true'], \n",
    "          result2.query(\"glaucoma==1\")['pixels_true'])"
   ]
  },
  {
   "cell_type": "markdown",
   "metadata": {},
   "source": [
    "The glaucoma class is more difficult to classify and have a lower accuracy.\n",
    "* table\n",
    "* t-test\n",
    "* boxplot "
   ]
  },
  {
   "cell_type": "code",
   "execution_count": 89,
   "metadata": {},
   "outputs": [
    {
     "data": {
      "text/html": [
       "<div>\n",
       "<style scoped>\n",
       "    .dataframe tbody tr th:only-of-type {\n",
       "        vertical-align: middle;\n",
       "    }\n",
       "\n",
       "    .dataframe tbody tr th {\n",
       "        vertical-align: top;\n",
       "    }\n",
       "\n",
       "    .dataframe thead th {\n",
       "        text-align: right;\n",
       "    }\n",
       "</style>\n",
       "<table border=\"1\" class=\"dataframe\">\n",
       "  <thead>\n",
       "    <tr style=\"text-align: right;\">\n",
       "      <th></th>\n",
       "      <th>dice</th>\n",
       "      <th>auc</th>\n",
       "      <th>accuracy</th>\n",
       "      <th>jaccard</th>\n",
       "      <th>thickness_pred</th>\n",
       "      <th>thickness_true</th>\n",
       "      <th>pixels_pred</th>\n",
       "      <th>pixels_true</th>\n",
       "      <th>CVI_true</th>\n",
       "      <th>CVI_pred</th>\n",
       "    </tr>\n",
       "    <tr>\n",
       "      <th>glaucoma</th>\n",
       "      <th></th>\n",
       "      <th></th>\n",
       "      <th></th>\n",
       "      <th></th>\n",
       "      <th></th>\n",
       "      <th></th>\n",
       "      <th></th>\n",
       "      <th></th>\n",
       "      <th></th>\n",
       "      <th></th>\n",
       "    </tr>\n",
       "  </thead>\n",
       "  <tbody>\n",
       "    <tr>\n",
       "      <th>0.0</th>\n",
       "      <td>0.739141</td>\n",
       "      <td>0.861169</td>\n",
       "      <td>0.982723</td>\n",
       "      <td>0.591205</td>\n",
       "      <td>17.129761</td>\n",
       "      <td>16.912598</td>\n",
       "      <td>0.033457</td>\n",
       "      <td>0.033032</td>\n",
       "      <td>0.231635</td>\n",
       "      <td>0.243901</td>\n",
       "    </tr>\n",
       "    <tr>\n",
       "      <th>1.0</th>\n",
       "      <td>0.662728</td>\n",
       "      <td>0.816923</td>\n",
       "      <td>0.980000</td>\n",
       "      <td>0.509400</td>\n",
       "      <td>15.797335</td>\n",
       "      <td>14.988454</td>\n",
       "      <td>0.030854</td>\n",
       "      <td>0.029274</td>\n",
       "      <td>0.227317</td>\n",
       "      <td>0.258926</td>\n",
       "    </tr>\n",
       "  </tbody>\n",
       "</table>\n",
       "</div>"
      ],
      "text/plain": [
       "              dice       auc  accuracy   jaccard  thickness_pred  \\\n",
       "glaucoma                                                           \n",
       "0.0       0.739141  0.861169  0.982723  0.591205       17.129761   \n",
       "1.0       0.662728  0.816923  0.980000  0.509400       15.797335   \n",
       "\n",
       "          thickness_true  pixels_pred  pixels_true  CVI_true  CVI_pred  \n",
       "glaucoma                                                                \n",
       "0.0            16.912598     0.033457     0.033032  0.231635  0.243901  \n",
       "1.0            14.988454     0.030854     0.029274  0.227317  0.258926  "
      ]
     },
     "execution_count": 89,
     "metadata": {},
     "output_type": "execute_result"
    }
   ],
   "source": [
    "result2.groupby(\"glaucoma\").mean()"
   ]
  },
  {
   "cell_type": "code",
   "execution_count": 90,
   "metadata": {},
   "outputs": [
    {
     "data": {
      "text/plain": [
       "Ttest_indResult(statistic=2.062255603285949, pvalue=0.04461840079307237)"
      ]
     },
     "execution_count": 90,
     "metadata": {},
     "output_type": "execute_result"
    }
   ],
   "source": [
    "ttest_ind(result2.query(\"glaucoma==0\")['dice'], \n",
    "          result2.query(\"glaucoma==1\")['dice'])"
   ]
  },
  {
   "cell_type": "code",
   "execution_count": 96,
   "metadata": {},
   "outputs": [
    {
     "data": {
      "image/png": "[encoded data removed]",
      "text/plain": [
       "<Figure size 288x288 with 1 Axes>"
      ]
     },
     "metadata": {
      "needs_background": "light"
     },
     "output_type": "display_data"
    }
   ],
   "source": [
    "sns.boxplot(x=\"glaucoma\", y=\"dice\",  data=result2)\n",
    "plt.show()"
   ]
  },
  {
   "cell_type": "markdown",
   "metadata": {},
   "source": [
    "# Comparison between manual and model segmentation"
   ]
  },
  {
   "cell_type": "markdown",
   "metadata": {},
   "source": [
    "## Paired-t test for equality of means of pixel counts\n",
    "\n",
    "\n",
    "Paired t-test compares whether there is statistically significance between the number of pixels in a class in the manual and DL segmentations. "
   ]
  },
  {
   "cell_type": "code",
   "execution_count": 30,
   "metadata": {},
   "outputs": [
    {
     "data": {
      "text/plain": [
       "Ttest_relResult(statistic=-1.22746906154229, pvalue=0.22528206095021572)"
      ]
     },
     "execution_count": 30,
     "metadata": {},
     "output_type": "execute_result"
    }
   ],
   "source": [
    "ttest_rel(result2['pixels_true'], result2['pixels_pred'])"
   ]
  },
  {
   "cell_type": "markdown",
   "metadata": {},
   "source": [
    "Same test but only looking at health controls"
   ]
  },
  {
   "cell_type": "code",
   "execution_count": 32,
   "metadata": {},
   "outputs": [
    {
     "data": {
      "text/plain": [
       "Ttest_relResult(statistic=-0.2986116098055409, pvalue=0.7693333313346908)"
      ]
     },
     "execution_count": 32,
     "metadata": {},
     "output_type": "execute_result"
    }
   ],
   "source": [
    "ttest_rel(result2.query(\"glaucoma==0\")['pixels_true'], \n",
    "          result2.query(\"glaucoma==0\")['pixels_pred'])"
   ]
  },
  {
   "cell_type": "markdown",
   "metadata": {},
   "source": [
    "Same test but only looking at glaucoma"
   ]
  },
  {
   "cell_type": "code",
   "execution_count": 33,
   "metadata": {},
   "outputs": [
    {
     "data": {
      "text/plain": [
       "Ttest_relResult(statistic=-1.3101295692374257, pvalue=0.19919869523662523)"
      ]
     },
     "execution_count": 33,
     "metadata": {},
     "output_type": "execute_result"
    }
   ],
   "source": [
    "ttest_rel(result2.query(\"glaucoma==1\")['pixels_true'], \n",
    "          result2.query(\"glaucoma==1\")['pixels_pred'])"
   ]
  },
  {
   "cell_type": "markdown",
   "metadata": {},
   "source": [
    "## Correlation plots of number of pixels per class or CVI"
   ]
  },
  {
   "cell_type": "markdown",
   "metadata": {},
   "source": [
    "We can show the number of pixels per class per scan in an almond graph like this, one per each class across each set. This way it would allow us to see the relationship between both human and dl segmentations."
   ]
  },
  {
   "cell_type": "code",
   "execution_count": 77,
   "metadata": {},
   "outputs": [
    {
     "data": {
      "image/png": "[encoded data removed]",
      "text/plain": [
       "<Figure size 288x288 with 1 Axes>"
      ]
     },
     "metadata": {
      "needs_background": "light"
     },
     "output_type": "display_data"
    }
   ],
   "source": [
    "x1 = result2.query(\"glaucoma==1\")['CVI_pred']\n",
    "x2 = result2.query(\"glaucoma==1\")['CVI_true']\n",
    "plt.rcParams[\"figure.figsize\"] = (4,4)\n",
    "plt.scatter(x1, x2, c='r')\n",
    "plt.ylabel(\"Ground Truth CVI%\")\n",
    "plt.xlabel(\"U-NET CVI%\")\n",
    "plt.axline((0, 0), linestyle='--', slope=1, color='black')\n",
    "plt.xlim([0, max(max(x1),max(x2))+0.02])\n",
    "plt.ylim([0, max(max(x1),max(x2))+0.02])\n",
    "plt.title(\"Glaucoma Subjects\")\n",
    "plt.show()"
   ]
  },
  {
   "cell_type": "code",
   "execution_count": 79,
   "metadata": {},
   "outputs": [
    {
     "data": {
      "image/png": "[encoded data removed]",
      "text/plain": [
       "<Figure size 288x288 with 1 Axes>"
      ]
     },
     "metadata": {
      "needs_background": "light"
     },
     "output_type": "display_data"
    }
   ],
   "source": [
    "x1 = result2.query(\"glaucoma==0\")['CVI_pred']\n",
    "x2 = result2.query(\"glaucoma==0\")['CVI_true']\n",
    "plt.rcParams[\"figure.figsize\"] = (4,4)\n",
    "plt.scatter(x1, x2, c='r')\n",
    "plt.ylabel(\"Ground Truth CVI%\")\n",
    "plt.xlabel(\"U-NET CVI%\")\n",
    "plt.axline((0, 0), linestyle='--', slope=1, color='black')\n",
    "plt.xlim([0, max(max(x1),max(x2))+0.02])\n",
    "plt.ylim([0, max(max(x1),max(x2))+0.02])\n",
    "plt.title(\"HC Subjects\")\n",
    "plt.show()"
   ]
  },
  {
   "cell_type": "markdown",
   "metadata": {},
   "source": [
    "# Repeatability\n",
    "\n",
    "Ref: https://doi.org/10.1167/tvst.11.2.23)\n",
    "\n",
    "Taking into consideration that all the scans included in the data set have “follow-up” scans taken at the same visit aligned at the same retinal location, a repeatability analysis was also performed comparing the two scans collected at the same visit on each participant. The repeatability was calculated as the absolute difference in the proportion of pixels for each category, given by the following formula: \n",
    "\n",
    "$$\n",
    "R = \\frac{|P_1 - P_2|}{p} \\times 100 \n",
    "$$\n",
    "\n",
    "where P1 and P2 are the number of correctly classified pixels for scans 1 and 2 respectively for a given category, p is the number of total pixels in an image (224 × 896 pixels), and R provides a repeatability metric given as a percentage difference between scans 1 and 2 for each category"
   ]
  },
  {
   "cell_type": "code",
   "execution_count": null,
   "metadata": {},
   "outputs": [],
   "source": []
  },
  {
   "cell_type": "code",
   "execution_count": null,
   "metadata": {},
   "outputs": [],
   "source": []
  },
  {
   "cell_type": "code",
   "execution_count": null,
   "metadata": {},
   "outputs": [],
   "source": []
  }
 ],
 "metadata": {
  "hide_input": false,
  "kernelspec": {
   "display_name": "Python 3",
   "language": "python",
   "name": "python3"
  },
  "language_info": {
   "codemirror_mode": {
    "name": "ipython",
    "version": 3
   },
   "file_extension": ".py",
   "mimetype": "text/x-python",
   "name": "python",
   "nbconvert_exporter": "python",
   "pygments_lexer": "ipython3",
   "version": "3.7.6"
  },
  "latex_envs": {
   "LaTeX_envs_menu_present": true,
   "autoclose": false,
   "autocomplete": true,
   "bibliofile": "biblio.bib",
   "cite_by": "apalike",
   "current_citInitial": 1,
   "eqLabelWithNumbers": true,
   "eqNumInitial": 1,
   "hotkeys": {
    "equation": "Ctrl-E",
    "itemize": "Ctrl-I"
   },
   "labels_anchors": false,
   "latex_user_defs": false,
   "report_style_numbering": false,
   "user_envs_cfg": false
  },
  "toc": {
   "base_numbering": 1,
   "nav_menu": {},
   "number_sections": true,
   "sideBar": true,
   "skip_h1_title": false,
   "title_cell": "Table of Contents",
   "title_sidebar": "Contents",
   "toc_cell": false,
   "toc_position": {},
   "toc_section_display": true,
   "toc_window_display": true
  },
  "varInspector": {
   "cols": {
    "lenName": 16,
    "lenType": 16,
    "lenVar": 40
   },
   "kernels_config": {
    "python": {
     "delete_cmd_postfix": "",
     "delete_cmd_prefix": "del ",
     "library": "var_list.py",
     "varRefreshCmd": "print(var_dic_list())"
    },
    "r": {
     "delete_cmd_postfix": ") ",
     "delete_cmd_prefix": "rm(",
     "library": "var_list.r",
     "varRefreshCmd": "cat(var_dic_list()) "
    }
   },
   "types_to_exclude": [
    "module",
    "function",
    "builtin_function_or_method",
    "instance",
    "_Feature"
   ],
   "window_display": false
  }
 },
 "nbformat": 4,
 "nbformat_minor": 4
}
